{
 "cells": [
  {
   "cell_type": "code",
   "execution_count": null,
   "id": "b901e207",
   "metadata": {},
   "outputs": [],
   "source": [
    "import fasttext\n",
    "import numpy as np\n",
    "import json\n",
    "import random\n",
    "import datetime\n",
    "import os"
   ]
  },
  {
   "cell_type": "markdown",
   "id": "a57f8d6c",
   "metadata": {},
   "source": [
    "Via https://fasttext.cc\n",
    "\n",
    "```\n",
    "wget https://dl.fbaipublicfiles.com/fasttext/vectors-crawl/cc.it.300.bin.gz\n",
    "wget https://dl.fbaipublicfiles.com/fasttext/vectors-wiki/wiki.it.zip\n",
    "```"
   ]
  },
  {
   "cell_type": "code",
   "execution_count": null,
   "id": "37ca1fb5",
   "metadata": {},
   "outputs": [],
   "source": [
    "wikimodel = fasttext.FastText.load_model(\"data/wiki.it/wiki.it.bin\")\n",
    "\n",
    "ccmodel = fasttext.FastText.load_model(\"data/cc.it.300.bin\")"
   ]
  },
  {
   "cell_type": "code",
   "execution_count": null,
   "id": "804c92ce",
   "metadata": {},
   "outputs": [],
   "source": [
    "def cosine_distance(first, second, model, decimals=2):\n",
    "    exact_distance = (np.dot(model[first], model[second])\n",
    "            /(np.linalg.norm(model[first])*np.linalg.norm(model[second]))\n",
    "           )\n",
    "    truncated_distance = np.round(float(exact_distance*100),decimals)\n",
    "    return truncated_distance"
   ]
  },
  {
   "cell_type": "markdown",
   "id": "435b1f8d",
   "metadata": {},
   "source": [
    "## Extract Apple dictionary\n",
    "\n",
    "https://gist.github.com/josephg/5e134adf70760ee7e49d"
   ]
  },
  {
   "cell_type": "code",
   "execution_count": null,
   "id": "0c08ce07",
   "metadata": {},
   "outputs": [],
   "source": [
    "# Thanks to commenters for providing the base of this much nicer implementation!\n",
    "# Save and run with $ python 0dedict.py\n",
    "# You may need to hunt down the dictionary files yourself and change the awful path string below.\n",
    "# This works for me on MacOS 10.14 Mohave\n",
    "\n",
    "from struct import unpack\n",
    "from zlib import decompress\n",
    "import re\n",
    "# filename = '/System/Library/Assets/com_apple_MobileAsset_DictionaryServices_dictionaryOSX/9f5862030e8f00af171924ebbc23ebfd6e91af78.asset/AssetData/Oxford Dictionary of English.dictionary/Contents/Resources/Body.data'\n",
    "# filename = \"/System/Library/AssetsV2/com_apple_MobileAsset_DictionaryServices_dictionaryOSX/bad4a5c5bf10a2dd135a07d7ad7b28e23d0aa7dd.asset/AssetData/Italian.dictionary/Contents/Resources/Body.data\"\n",
    "filename = \"/System/Library/AssetsV2/com_apple_MobileAsset_DictionaryServices_dictionaryOSX/a1fa9ccfe47b097a31a6b2ea94641e6e511855dd.asset/AssetData/Italian.dictionary/Contents/Resources/Body.data\"\n",
    "\n",
    "f = open(filename, 'rb')\n",
    "\n",
    "def gen_entry():\n",
    "    f.seek(0x40)\n",
    "    limit = 0x40 + unpack('i', f.read(4))[0]\n",
    "    f.seek(0x60)\n",
    "    while f.tell()<limit:\n",
    "        sz, = unpack('i', f.read(4))\n",
    "        buf = decompress(f.read(sz)[8:])\n",
    "\n",
    "        pos = 0\n",
    "        while pos < len(buf):\n",
    "            chunksize, = unpack('i', buf[pos:pos+4])\n",
    "            pos += 4\n",
    "\n",
    "            entry = buf[pos:pos+chunksize]\n",
    "            title = re.search('d:title=\"(.*?)\"', entry.decode('utf-8')).group(1)\n",
    "            yield title, entry\n",
    "\n",
    "            pos += chunksize\n",
    "\n",
    "wordlist = []\n",
    "for word, definition in gen_entry():\n",
    "    wordlist.append(word)"
   ]
  },
  {
   "cell_type": "code",
   "execution_count": null,
   "id": "3fc5015d",
   "metadata": {},
   "outputs": [],
   "source": [
    "print(len(wordlist))"
   ]
  },
  {
   "cell_type": "markdown",
   "id": "786c0af8",
   "metadata": {},
   "source": [
    "# Parole italiane"
   ]
  },
  {
   "cell_type": "markdown",
   "id": "d69b7c05",
   "metadata": {},
   "source": [
    "```\n",
    "git clone https://github.com/napolux/paroleitaliane.git\n",
    "\n",
    "sudo apt-get install witalian\n",
    "\n",
    "/usr/share/dict/italian\n",
    "```"
   ]
  },
  {
   "cell_type": "code",
   "execution_count": null,
   "id": "62ad3581",
   "metadata": {},
   "outputs": [],
   "source": [
    "parole60  = \"data/paroleitaliane/paroleitaliane/60000_parole_italiane.txt\"\n",
    "parole95  = \"data/paroleitaliane/paroleitaliane/95000_parole_italiane_con_nomi_propri.txt\"\n",
    "\n",
    "parole280 = \"data/paroleitaliane/paroleitaliane/280000_parole_italiane.txt\"\n",
    "\n",
    "paroleDebian = \"data/italian\"\n",
    "\n",
    "# with open(paroleDebian, \"r\") as file:\n",
    "#     words = [w.strip() for w in file.readlines() if \"'\" not in w]\n",
    "    \n"
   ]
  },
  {
   "cell_type": "code",
   "execution_count": null,
   "id": "4f98235b",
   "metadata": {},
   "outputs": [],
   "source": [
    "words = [w for w in wordlist if len(w)>1 and '-' not in w and '(' not in w and ')' not in w and \"'\" not in w]"
   ]
  },
  {
   "cell_type": "code",
   "execution_count": null,
   "id": "b42906fe",
   "metadata": {},
   "outputs": [],
   "source": [
    "words"
   ]
  },
  {
   "cell_type": "code",
   "execution_count": null,
   "id": "5dd5e2b2",
   "metadata": {},
   "outputs": [],
   "source": [
    "len(words)"
   ]
  },
  {
   "cell_type": "code",
   "execution_count": null,
   "id": "21cf7867",
   "metadata": {},
   "outputs": [],
   "source": [
    "with open(\"data/paroleitaliane/paroleitaliane/1000_parole_italiane_comuni.txt\", \"r\") as file:\n",
    "    common_words = [w.strip() for w in file.readlines()]\n",
    "    \n",
    "common_words = [w for w in common_words if len(w)>2]\n",
    "len(common_words)"
   ]
  },
  {
   "cell_type": "code",
   "execution_count": null,
   "id": "72ba3c37",
   "metadata": {},
   "outputs": [],
   "source": [
    "def create_semantle_data(all_words, solution_words, model, date, puzzle_number, verbose=False):\n",
    "    # Day to use for the solution\n",
    "    isoday = date.isoformat()\n",
    "    \n",
    "    # Solution\n",
    "    # Seed the random number generator\n",
    "    random.seed(a=isoday, version=2)\n",
    "    # Pick the word\n",
    "    query = random.choice(solution_words)\n",
    "    if verbose:\n",
    "        print(\"La soluzione per il {} è \\\"{}\\\"\".format(isoday, query))\n",
    "        \n",
    "    # Distanze\n",
    "    distances_list = [(word, cosine_distance(query, word, model)) for word in set(all_words+solution_words) if len(word)>1]\n",
    "    \n",
    "    # Distanze nell'ordine giusto\n",
    "    distances_list_sorted = sorted(distances_list, key=lambda x: x[1],reverse=True)\n",
    "    \n",
    "    # Database per Semantle\n",
    "    \n",
    "    word_database = {\n",
    "        _tuple[0]:\n",
    "        {\n",
    "            \"s\": _tuple[1],\n",
    "            \"r\": _ix,\n",
    "        } for _ix, _tuple in enumerate(distances_list_sorted)\n",
    "    }\n",
    "    \n",
    "    # Le parole più vicine\n",
    "    closest_words_list = [\n",
    "        {\n",
    "            \"w\": _tuple[0],\n",
    "            \"s\": _tuple[1],\n",
    "            \"r\": _ix,\n",
    "        } for _ix, _tuple in enumerate(distances_list_sorted[:1000])\n",
    "    ]\n",
    "    \n",
    "    solution_word = query\n",
    "    \n",
    "    # Statistiche\n",
    "    \n",
    "    nearest_word_similarity = closest_words_list[1][\"s\"]\n",
    "    tenth_nearest_word_similarity = closest_words_list[9][\"s\"]\n",
    "    thousandth_nearest_word_similarity = closest_words_list[999][\"s\"]\n",
    "\n",
    "    day_stats = {\n",
    "        \"puzzle_number\": puzzle_number,\n",
    "        \"nearest_word_similarity\": nearest_word_similarity,\n",
    "        \"tenth_nearest_word_similarity\": tenth_nearest_word_similarity,\n",
    "        \"thousandth_nearest_word_similarity\": thousandth_nearest_word_similarity,\n",
    "    }\n",
    "\n",
    "    semantle_data = {\n",
    "        \"word_database\": word_database,\n",
    "        \"closest_words_list\": closest_words_list,\n",
    "        \"solution_word\": solution_word,\n",
    "        \"day_stats\": day_stats,\n",
    "    }\n",
    "    return semantle_data"
   ]
  },
  {
   "cell_type": "code",
   "execution_count": null,
   "id": "9a480eab",
   "metadata": {},
   "outputs": [],
   "source": [
    "wikidata = create_semantle_data(\n",
    "    all_words=words,\n",
    "    solution_words=common_words,\n",
    "    model=wikimodel,\n",
    "    date=datetime.date.today()-datetime.timedelta(days=2),\n",
    "    puzzle_number=-1,\n",
    "    verbose=True\n",
    ")\n",
    "\n",
    "ccdata = create_semantle_data(\n",
    "    all_words=words,\n",
    "    solution_words=common_words,\n",
    "    model=ccmodel,\n",
    "    date=datetime.date.today()-datetime.timedelta(days=2),\n",
    "    puzzle_number=-1,\n",
    "    verbose=True\n",
    ")"
   ]
  },
  {
   "cell_type": "code",
   "execution_count": null,
   "id": "bc334660",
   "metadata": {},
   "outputs": [],
   "source": [
    "print([w['w'] for w in wikidata['closest_words_list'][:50]])\n",
    "# print(wikidata['word_database']['re'])"
   ]
  },
  {
   "cell_type": "code",
   "execution_count": null,
   "id": "283c087d",
   "metadata": {},
   "outputs": [],
   "source": [
    "print([w['w'] for w in ccdata['closest_words_list'][:50]])\n",
    "# print(ccdata['word_database']['re'])"
   ]
  },
  {
   "cell_type": "code",
   "execution_count": null,
   "id": "e3640119",
   "metadata": {},
   "outputs": [],
   "source": [
    "data = create_semantle_data(\n",
    "    all_words=words,\n",
    "    solution_words=common_words,\n",
    "    model=wikimodel,\n",
    "    date=datetime.date(2022,9,11),\n",
    "    puzzle_number=1,\n",
    "    verbose=True\n",
    ")"
   ]
  },
  {
   "cell_type": "code",
   "execution_count": null,
   "id": "892897a9",
   "metadata": {},
   "outputs": [],
   "source": [
    "data = create_semantle_data(\n",
    "    all_words=words,\n",
    "    solution_words=common_words,\n",
    "    model=ccmodel,\n",
    "    date=datetime.date(2022,9,11),\n",
    "    puzzle_number=1,\n",
    "    verbose=True\n",
    ")\n",
    "print(data[\"word_database\"][\"conte\"])\n",
    "print([n[\"w\"] for n in data[\"closest_words_list\"]])\n"
   ]
  },
  {
   "cell_type": "code",
   "execution_count": null,
   "id": "3a289fe4",
   "metadata": {},
   "outputs": [],
   "source": [
    "for days_ahead in range(365):\n",
    "    _date = datetime.date(2022,9,9)+datetime.timedelta(days=days_ahead)\n",
    "    data = create_semantle_data(\n",
    "        all_words=words,\n",
    "        solution_words=common_words,\n",
    "        model=ccmodel,\n",
    "        date=_date,\n",
    "        puzzle_number=days_ahead,\n",
    "        verbose=True\n",
    "    )\n",
    "    isopath = _date.isoformat()\n",
    "    os.makedirs(\"AppleCC/\"+isopath, exist_ok = True)\n",
    "    with open(\"AppleCC/\"+isopath+\"/semantle.json\", \"w\") as file:\n",
    "        json.dump(data,file)\n",
    "    with open(\"AppleCC/\"+isopath+\"/closest.json\", \"w\") as file:\n",
    "        json.dump(data['closest_words_list'],file)\n",
    "    with open(\"AppleCC/\"+isopath+\"/stats.json\", \"w\") as file:\n",
    "        json.dump(data['day_stats'],file)\n",
    "    with open(\"AppleCC/\"+isopath+\"/database.json\", \"w\") as file:\n",
    "        json.dump(data['word_database'],file)"
   ]
  },
  {
   "cell_type": "code",
   "execution_count": null,
   "id": "453a6c00",
   "metadata": {},
   "outputs": [],
   "source": [
    "wikidata.keys()"
   ]
  },
  {
   "cell_type": "code",
   "execution_count": null,
   "id": "6de4bc3b",
   "metadata": {},
   "outputs": [],
   "source": []
  }
 ],
 "metadata": {
  "kernelspec": {
   "display_name": "SemantitEnv",
   "language": "python",
   "name": "semantitenv"
  },
  "language_info": {
   "codemirror_mode": {
    "name": "ipython",
    "version": 3
   },
   "file_extension": ".py",
   "mimetype": "text/x-python",
   "name": "python",
   "nbconvert_exporter": "python",
   "pygments_lexer": "ipython3",
   "version": "3.11.3"
  }
 },
 "nbformat": 4,
 "nbformat_minor": 5
}
